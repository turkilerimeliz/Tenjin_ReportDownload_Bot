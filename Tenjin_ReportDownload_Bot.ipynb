{
 "cells": [
  {
   "cell_type": "code",
   "execution_count": 13,
   "id": "90cfc72d",
   "metadata": {},
   "outputs": [],
   "source": [
    "# import libraries\n",
    "from bs4 import BeautifulSoup\n",
    "import requests\n",
    "import time, os"
   ]
  },
  {
   "cell_type": "code",
   "execution_count": 14,
   "id": "1a8f6549",
   "metadata": {},
   "outputs": [],
   "source": [
    "from selenium import webdriver\n",
    "from selenium.webdriver.common.keys import Keys\n",
    "from selenium.webdriver.common.by import By\n",
    "import warnings\n",
    "warnings.filterwarnings(action='ignore')"
   ]
  },
  {
   "cell_type": "code",
   "execution_count": 15,
   "id": "d96eedbf",
   "metadata": {},
   "outputs": [],
   "source": [
    "# define path for driver\n",
    "chromedriver = \"/Macintosh HD/usr/local/bin\"\n",
    "os.environ[\"webdriver.chrome.driver\"] = chromedriver\n",
    "driver = webdriver.Chrome(chromedriver)"
   ]
  },
  {
   "cell_type": "code",
   "execution_count": 16,
   "id": "e2bf9fe9",
   "metadata": {},
   "outputs": [],
   "source": [
    "#define sensortower log-in link\n",
    "driver.get('https://www.tenjin.com/login')"
   ]
  },
  {
   "cell_type": "code",
   "execution_count": 17,
   "id": "b172df8c",
   "metadata": {},
   "outputs": [],
   "source": [
    "# define username via XPATH\n",
    "username = driver.find_element(By.XPATH, '//*[@id=\"login-input-email\"]')"
   ]
  },
  {
   "cell_type": "code",
   "execution_count": 18,
   "id": "65784271",
   "metadata": {},
   "outputs": [],
   "source": [
    "# send key to the username section - replace your password with XXX@gmail.com\n",
    "username.send_keys(\"XXX@gmail.com\")"
   ]
  },
  {
   "cell_type": "code",
   "execution_count": 19,
   "id": "0b7e28ea",
   "metadata": {},
   "outputs": [],
   "source": [
    "# define password via XPATH \n",
    "password = driver.find_element(By.XPATH, '//*[@id=\"login-input-password\"]')"
   ]
  },
  {
   "cell_type": "code",
   "execution_count": 20,
   "id": "2de0216f",
   "metadata": {},
   "outputs": [],
   "source": [
    "# send key to the password section - replace your password with XXX\n",
    "password.send_keys(\"XXX\")"
   ]
  },
  {
   "cell_type": "code",
   "execution_count": 21,
   "id": "e4de8573",
   "metadata": {},
   "outputs": [],
   "source": [
    "# identify login button and click it\n",
    "driver.find_element(By.XPATH, '//*[@id=\"login-button\"]').click()"
   ]
  },
  {
   "cell_type": "code",
   "execution_count": 22,
   "id": "b22a9624",
   "metadata": {},
   "outputs": [],
   "source": [
    "# open the dashboard\n",
    "driver.get(\"https://www.tenjin.com/dashboard/\")\n",
    "driver.get(\"https://www.tenjin.com/dashboard/data_exporter\")"
   ]
  },
  {
   "cell_type": "code",
   "execution_count": 23,
   "id": "7ea4f3ef",
   "metadata": {},
   "outputs": [],
   "source": [
    "# open filter for the predefined report\n",
    "time.sleep(1)\n",
    "driver.find_element(By.XPATH, '/html/body/main/div/div[2]/div[1]/div[1]/div/div/div[1]/div[1]').click()"
   ]
  },
  {
   "cell_type": "code",
   "execution_count": 24,
   "id": "66ab9de0",
   "metadata": {},
   "outputs": [],
   "source": [
    "# select predefined report ( Butkus Ver1) in our case\n",
    "driver.find_element(By.XPATH, '/html/body/main/div/div[2]/div[1]/div[1]/div/div[2]').click()\n",
    "\n",
    "# open the date picker -- work on it\n",
    "#driver.find_element(By.XPATH, '/html/body/main/div/div[1]/div/div/div[2]/div/div').click()  "
   ]
  },
  {
   "cell_type": "code",
   "execution_count": 25,
   "id": "c590f9c9",
   "metadata": {},
   "outputs": [],
   "source": [
    "# wait a bit and then download the report\n",
    "time.sleep(15)\n",
    "driver.find_element(By.XPATH, '/html/body/main/div/div[2]/div[1]/div[4]').click()"
   ]
  },
  {
   "cell_type": "code",
   "execution_count": null,
   "id": "9d4e455d",
   "metadata": {},
   "outputs": [],
   "source": [
    "# close the session\n",
    "driver.close()"
   ]
  },
  {
   "cell_type": "code",
   "execution_count": null,
   "id": "111a7eff",
   "metadata": {},
   "outputs": [],
   "source": [
    "# quit from the driver\n",
    "driver.quit()"
   ]
  }
 ],
 "metadata": {
  "kernelspec": {
   "display_name": "Python 3 (ipykernel)",
   "language": "python",
   "name": "python3"
  },
  "language_info": {
   "codemirror_mode": {
    "name": "ipython",
    "version": 3
   },
   "file_extension": ".py",
   "mimetype": "text/x-python",
   "name": "python",
   "nbconvert_exporter": "python",
   "pygments_lexer": "ipython3",
   "version": "3.9.13"
  }
 },
 "nbformat": 4,
 "nbformat_minor": 5
}
